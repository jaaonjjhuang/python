{
 "cells": [
  {
   "cell_type": "code",
   "execution_count": 1,
   "metadata": {},
   "outputs": [
    {
     "name": "stderr",
     "output_type": "stream",
     "text": [
      "/opt/conda/lib/python3.6/site-packages/sklearn/cross_validation.py:41: DeprecationWarning: This module was deprecated in version 0.18 in favor of the model_selection module into which all the refactored classes and functions are moved. Also note that the interface of the new CV iterators are different from that of this module. This module will be removed in 0.20.\n",
      "  \"This module will be removed in 0.20.\", DeprecationWarning)\n"
     ]
    }
   ],
   "source": [
    "%matplotlib inline\n",
    "import matplotlib.pyplot as plt\n",
    "\n",
    "import numpy as np\n",
    "import pandas as pd\n",
    "import cv2\n",
    "import tensorflow as tf\n",
    "import sys\n",
    "import os\n",
    "from sklearn.model_selection import train_test_split\n",
    "\n",
    "from tkinter import *\n",
    "import time\n",
    "'''Tensorflow package'''\n",
    "# from tensorflow.contrib.slim.nets import resnet_v2\n",
    "## shuffle比較容易訓練\n",
    "from sklearn.utils import shuffle\n",
    "from sklearn.cross_validation import train_test_split\n",
    "\n",
    "#進度條\n",
    "from ipywidgets import IntProgress\n",
    "from IPython.display import display"
   ]
  },
  {
   "cell_type": "markdown",
   "metadata": {},
   "source": [
    "# Source Path\n",
    "# 設定圖片路徑, 分類路徑"
   ]
  },
  {
   "cell_type": "code",
   "execution_count": 2,
   "metadata": {},
   "outputs": [
    {
     "data": {
      "text/html": [
       "<div>\n",
       "<style scoped>\n",
       "    .dataframe tbody tr th:only-of-type {\n",
       "        vertical-align: middle;\n",
       "    }\n",
       "\n",
       "    .dataframe tbody tr th {\n",
       "        vertical-align: top;\n",
       "    }\n",
       "\n",
       "    .dataframe thead th {\n",
       "        text-align: right;\n",
       "    }\n",
       "</style>\n",
       "<table border=\"1\" class=\"dataframe\">\n",
       "  <thead>\n",
       "    <tr style=\"text-align: right;\">\n",
       "      <th></th>\n",
       "      <th>classes</th>\n",
       "      <th>dirs</th>\n",
       "    </tr>\n",
       "  </thead>\n",
       "  <tbody>\n",
       "    <tr>\n",
       "      <th>0</th>\n",
       "      <td>0</td>\n",
       "      <td>Pass</td>\n",
       "    </tr>\n",
       "    <tr>\n",
       "      <th>1</th>\n",
       "      <td>1</td>\n",
       "      <td>Missing</td>\n",
       "    </tr>\n",
       "    <tr>\n",
       "      <th>2</th>\n",
       "      <td>2</td>\n",
       "      <td>MissAlignment</td>\n",
       "    </tr>\n",
       "    <tr>\n",
       "      <th>3</th>\n",
       "      <td>3</td>\n",
       "      <td>Tombstone_SideStanding</td>\n",
       "    </tr>\n",
       "    <tr>\n",
       "      <th>4</th>\n",
       "      <td>4</td>\n",
       "      <td>PartsReversed</td>\n",
       "    </tr>\n",
       "    <tr>\n",
       "      <th>5</th>\n",
       "      <td>5</td>\n",
       "      <td>ExcessComponent</td>\n",
       "    </tr>\n",
       "    <tr>\n",
       "      <th>6</th>\n",
       "      <td>6</td>\n",
       "      <td>Other_Damage</td>\n",
       "    </tr>\n",
       "    <tr>\n",
       "      <th>7</th>\n",
       "      <td>7</td>\n",
       "      <td>VoidSolder_Short</td>\n",
       "    </tr>\n",
       "    <tr>\n",
       "      <th>8</th>\n",
       "      <td>8</td>\n",
       "      <td>TextMissing</td>\n",
       "    </tr>\n",
       "    <tr>\n",
       "      <th>9</th>\n",
       "      <td>9</td>\n",
       "      <td>tag</td>\n",
       "    </tr>\n",
       "  </tbody>\n",
       "</table>\n",
       "</div>"
      ],
      "text/plain": [
       "   classes                    dirs\n",
       "0        0                    Pass\n",
       "1        1                 Missing\n",
       "2        2           MissAlignment\n",
       "3        3  Tombstone_SideStanding\n",
       "4        4           PartsReversed\n",
       "5        5         ExcessComponent\n",
       "6        6            Other_Damage\n",
       "7        7        VoidSolder_Short\n",
       "8        8             TextMissing\n",
       "9        9                     tag"
      ]
     },
     "execution_count": 2,
     "metadata": {},
     "output_type": "execute_result"
    }
   ],
   "source": [
    "class_config = \"data/mapping.txt\"\n",
    "# img_train_path = \"data/train/\"\n",
    "#裁切圖片完成的路徑\n",
    "img_train_path = \"data/train_cut_v6_1/\"\n",
    "img_test_path = \"data/test_cut_v6_1/\"\n",
    "df_classes = pd.read_csv(os.path.join(class_config))\n",
    "df_classes"
   ]
  },
  {
   "cell_type": "markdown",
   "metadata": {},
   "source": [
    "## 建立圖片位置檔案"
   ]
  },
  {
   "cell_type": "code",
   "execution_count": 4,
   "metadata": {},
   "outputs": [],
   "source": [
    "#紀錄圖片名稱\n",
    "x_class=[]\n",
    "#紀錄圖片路徑\n",
    "x_path=[]\n",
    "#r紀錄目錄\n",
    "x_dir=[]"
   ]
  },
  {
   "cell_type": "code",
   "execution_count": null,
   "metadata": {},
   "outputs": [],
   "source": []
  },
  {
   "cell_type": "code",
   "execution_count": 5,
   "metadata": {},
   "outputs": [
    {
     "data": {
      "application/vnd.jupyter.widget-view+json": {
       "model_id": "6fdaa02ac552484782c5959abdcb7a27",
       "version_major": 2,
       "version_minor": 0
      },
      "text/plain": [
       "IntProgress(value=0, description='(Init)', max=40000)"
      ]
     },
     "metadata": {},
     "output_type": "display_data"
    },
    {
     "name": "stdout",
     "output_type": "stream",
     "text": [
      "data/train_cut_v6_1/Pass/\n",
      "data/train_cut_v6_1/Missing/\n",
      "data/train_cut_v6_1/MissAlignment/\n",
      "data/train_cut_v6_1/Tombstone_SideStanding/\n",
      "data/train_cut_v6_1/PartsReversed/\n",
      "data/train_cut_v6_1/ExcessComponent/\n",
      "data/train_cut_v6_1/Other_Damage/\n",
      "data/train_cut_v6_1/VoidSolder_Short/\n",
      "data/train_cut_v6_1/TextMissing/\n",
      "data/train_cut_v6_1/tag/\n",
      "It cost 1117.386139 sec\n"
     ]
    }
   ],
   "source": [
    "progress = IntProgress()\n",
    "progress.max = 40000\n",
    "progress.description = '(Init)'\n",
    "display(progress)\n",
    "time.sleep(0.25)\n",
    "\n",
    "tStart = time.time()#計時開始\n",
    "\n",
    "for index, row in df_classes.iterrows():\n",
    "    scr_directory = img_train_path+row['dirs']+'/'\n",
    "    print(scr_directory)\n",
    "    if os.path.isdir(scr_directory):\n",
    "        for imgname in os.listdir(scr_directory):\n",
    "            dir_img = scr_directory + imgname\n",
    "            train_img =cv2.imread(dir_img)\n",
    "            #防呆,避免讀取的不是圖檔\n",
    "            if train_img is not None:\n",
    "                imgname_split=imgname.split('.') \n",
    "                if imgname_split != '':\n",
    "                    x_class.append(row['classes'])\n",
    "                    path = scr_directory+imgname\n",
    "                    x_path.append(path)\n",
    "                    x_dir.append(row['dirs'])\n",
    "\n",
    "                    progress.value += 1\n",
    "                    time.sleep(0.05)\n",
    "                    progress.description = 'Training Image'\n",
    "\n",
    "\n",
    "tEnd = time.time()#計時結束\n",
    "print(\"It cost %f sec\" % (tEnd - tStart))#會自動做近位\n"
   ]
  },
  {
   "cell_type": "code",
   "execution_count": 7,
   "metadata": {},
   "outputs": [],
   "source": []
  },
  {
   "cell_type": "code",
   "execution_count": 6,
   "metadata": {},
   "outputs": [],
   "source": [
    "#將圖檔和路徑合併\n",
    "# x_table = pd.DataFrame(x_name)\n",
    "x_class = pd.DataFrame(x_class)\n",
    "x_class.rename(columns={ x_class.columns[0]: \"class\"}, inplace=True)\n",
    "\n",
    "x_path = pd.DataFrame(x_path)\n",
    "x_path.rename(columns={ x_path.columns[0]: \"img_path\"}, inplace=True)\n",
    "\n",
    "x_dir = pd.DataFrame(x_dir)\n",
    "x_dir.rename(columns={ x_dir.columns[0]: \"dir_name\"}, inplace=True)\n",
    "\n",
    "# x_table = pd.concat(x_name,x_path)\n",
    "x_table = pd.concat([x_path,x_class,x_dir],axis=1)\n",
    "\n"
   ]
  },
  {
   "cell_type": "code",
   "execution_count": 23,
   "metadata": {},
   "outputs": [
    {
     "data": {
      "text/html": [
       "<div>\n",
       "<style scoped>\n",
       "    .dataframe tbody tr th:only-of-type {\n",
       "        vertical-align: middle;\n",
       "    }\n",
       "\n",
       "    .dataframe tbody tr th {\n",
       "        vertical-align: top;\n",
       "    }\n",
       "\n",
       "    .dataframe thead th {\n",
       "        text-align: right;\n",
       "    }\n",
       "</style>\n",
       "<table border=\"1\" class=\"dataframe\">\n",
       "  <thead>\n",
       "    <tr style=\"text-align: right;\">\n",
       "      <th></th>\n",
       "      <th>img_path</th>\n",
       "      <th>class</th>\n",
       "      <th>dir_name</th>\n",
       "    </tr>\n",
       "  </thead>\n",
       "  <tbody>\n",
       "    <tr>\n",
       "      <th>0</th>\n",
       "      <td>data/train_cut_v5_1/Pass/0915104416_AOI_E02-0R...</td>\n",
       "      <td>0</td>\n",
       "      <td>Pass</td>\n",
       "    </tr>\n",
       "    <tr>\n",
       "      <th>1</th>\n",
       "      <td>data/train_cut_v5_1/Pass/0910192346_AOI_E01-0C...</td>\n",
       "      <td>0</td>\n",
       "      <td>Pass</td>\n",
       "    </tr>\n",
       "    <tr>\n",
       "      <th>2</th>\n",
       "      <td>data/train_cut_v5_1/Pass/0915171815_AOI_E02-0R...</td>\n",
       "      <td>0</td>\n",
       "      <td>Pass</td>\n",
       "    </tr>\n",
       "    <tr>\n",
       "      <th>3</th>\n",
       "      <td>data/train_cut_v5_1/Pass/0907075829_AOI_E02-0D...</td>\n",
       "      <td>0</td>\n",
       "      <td>Pass</td>\n",
       "    </tr>\n",
       "    <tr>\n",
       "      <th>4</th>\n",
       "      <td>data/train_cut_v5_1/Pass/0918151025_AOI_E02-0R...</td>\n",
       "      <td>0</td>\n",
       "      <td>Pass</td>\n",
       "    </tr>\n",
       "  </tbody>\n",
       "</table>\n",
       "</div>"
      ],
      "text/plain": [
       "                                            img_path  class dir_name\n",
       "0  data/train_cut_v5_1/Pass/0915104416_AOI_E02-0R...      0     Pass\n",
       "1  data/train_cut_v5_1/Pass/0910192346_AOI_E01-0C...      0     Pass\n",
       "2  data/train_cut_v5_1/Pass/0915171815_AOI_E02-0R...      0     Pass\n",
       "3  data/train_cut_v5_1/Pass/0907075829_AOI_E02-0D...      0     Pass\n",
       "4  data/train_cut_v5_1/Pass/0918151025_AOI_E02-0R...      0     Pass"
      ]
     },
     "execution_count": 23,
     "metadata": {},
     "output_type": "execute_result"
    }
   ],
   "source": [
    "x_table.head()"
   ]
  },
  {
   "cell_type": "code",
   "execution_count": null,
   "metadata": {},
   "outputs": [],
   "source": [
    "# x_table.to_csv('x_table.csv', index = False)"
   ]
  },
  {
   "cell_type": "code",
   "execution_count": 7,
   "metadata": {},
   "outputs": [],
   "source": [
    "x_table = x_table.drop(axis=1, columns='dir_name')\n",
    "x_dummies = pd.get_dummies(x_table[\"class\"])"
   ]
  },
  {
   "cell_type": "code",
   "execution_count": 8,
   "metadata": {},
   "outputs": [],
   "source": [
    "# #組合圖片路徑 跟 get_dummies資料組合\n",
    "x_table = pd.concat([x_table,x_dummies],axis=1)\n",
    "x_table = x_table.drop([\"class\"], axis = 1)"
   ]
  },
  {
   "cell_type": "code",
   "execution_count": 9,
   "metadata": {},
   "outputs": [
    {
     "data": {
      "text/html": [
       "<div>\n",
       "<style scoped>\n",
       "    .dataframe tbody tr th:only-of-type {\n",
       "        vertical-align: middle;\n",
       "    }\n",
       "\n",
       "    .dataframe tbody tr th {\n",
       "        vertical-align: top;\n",
       "    }\n",
       "\n",
       "    .dataframe thead th {\n",
       "        text-align: right;\n",
       "    }\n",
       "</style>\n",
       "<table border=\"1\" class=\"dataframe\">\n",
       "  <thead>\n",
       "    <tr style=\"text-align: right;\">\n",
       "      <th></th>\n",
       "      <th>img_path</th>\n",
       "      <th>0</th>\n",
       "      <th>1</th>\n",
       "      <th>2</th>\n",
       "      <th>3</th>\n",
       "      <th>4</th>\n",
       "      <th>5</th>\n",
       "      <th>6</th>\n",
       "      <th>7</th>\n",
       "      <th>8</th>\n",
       "      <th>9</th>\n",
       "    </tr>\n",
       "  </thead>\n",
       "  <tbody>\n",
       "    <tr>\n",
       "      <th>0</th>\n",
       "      <td>data/train_cut_v6_1/Pass/0915104416_AOI_E02-0R...</td>\n",
       "      <td>1</td>\n",
       "      <td>0</td>\n",
       "      <td>0</td>\n",
       "      <td>0</td>\n",
       "      <td>0</td>\n",
       "      <td>0</td>\n",
       "      <td>0</td>\n",
       "      <td>0</td>\n",
       "      <td>0</td>\n",
       "      <td>0</td>\n",
       "    </tr>\n",
       "    <tr>\n",
       "      <th>1</th>\n",
       "      <td>data/train_cut_v6_1/Pass/0910192346_AOI_E01-0C...</td>\n",
       "      <td>1</td>\n",
       "      <td>0</td>\n",
       "      <td>0</td>\n",
       "      <td>0</td>\n",
       "      <td>0</td>\n",
       "      <td>0</td>\n",
       "      <td>0</td>\n",
       "      <td>0</td>\n",
       "      <td>0</td>\n",
       "      <td>0</td>\n",
       "    </tr>\n",
       "    <tr>\n",
       "      <th>2</th>\n",
       "      <td>data/train_cut_v6_1/Pass/0915171815_AOI_E02-0R...</td>\n",
       "      <td>1</td>\n",
       "      <td>0</td>\n",
       "      <td>0</td>\n",
       "      <td>0</td>\n",
       "      <td>0</td>\n",
       "      <td>0</td>\n",
       "      <td>0</td>\n",
       "      <td>0</td>\n",
       "      <td>0</td>\n",
       "      <td>0</td>\n",
       "    </tr>\n",
       "    <tr>\n",
       "      <th>3</th>\n",
       "      <td>data/train_cut_v6_1/Pass/0907075829_AOI_E02-0D...</td>\n",
       "      <td>1</td>\n",
       "      <td>0</td>\n",
       "      <td>0</td>\n",
       "      <td>0</td>\n",
       "      <td>0</td>\n",
       "      <td>0</td>\n",
       "      <td>0</td>\n",
       "      <td>0</td>\n",
       "      <td>0</td>\n",
       "      <td>0</td>\n",
       "    </tr>\n",
       "    <tr>\n",
       "      <th>4</th>\n",
       "      <td>data/train_cut_v6_1/Pass/0918151025_AOI_E02-0R...</td>\n",
       "      <td>1</td>\n",
       "      <td>0</td>\n",
       "      <td>0</td>\n",
       "      <td>0</td>\n",
       "      <td>0</td>\n",
       "      <td>0</td>\n",
       "      <td>0</td>\n",
       "      <td>0</td>\n",
       "      <td>0</td>\n",
       "      <td>0</td>\n",
       "    </tr>\n",
       "  </tbody>\n",
       "</table>\n",
       "</div>"
      ],
      "text/plain": [
       "                                            img_path  0  1  2  3  4  5  6  7  \\\n",
       "0  data/train_cut_v6_1/Pass/0915104416_AOI_E02-0R...  1  0  0  0  0  0  0  0   \n",
       "1  data/train_cut_v6_1/Pass/0910192346_AOI_E01-0C...  1  0  0  0  0  0  0  0   \n",
       "2  data/train_cut_v6_1/Pass/0915171815_AOI_E02-0R...  1  0  0  0  0  0  0  0   \n",
       "3  data/train_cut_v6_1/Pass/0907075829_AOI_E02-0D...  1  0  0  0  0  0  0  0   \n",
       "4  data/train_cut_v6_1/Pass/0918151025_AOI_E02-0R...  1  0  0  0  0  0  0  0   \n",
       "\n",
       "   8  9  \n",
       "0  0  0  \n",
       "1  0  0  \n",
       "2  0  0  \n",
       "3  0  0  \n",
       "4  0  0  "
      ]
     },
     "execution_count": 9,
     "metadata": {},
     "output_type": "execute_result"
    }
   ],
   "source": [
    "x_table.head(5)"
   ]
  },
  {
   "cell_type": "code",
   "execution_count": 10,
   "metadata": {},
   "outputs": [],
   "source": [
    "#儲存整理好的資料\n",
    "x_table.to_csv(\"train_data_cut_v6_1.csv\", index = False)\n"
   ]
  },
  {
   "cell_type": "code",
   "execution_count": null,
   "metadata": {},
   "outputs": [],
   "source": []
  },
  {
   "cell_type": "markdown",
   "metadata": {},
   "source": [
    "## 如果重新Trainning 從這裡開始執行\n",
    "## 讀取 已經紀錄的圖片路徑，是已經get dummie"
   ]
  },
  {
   "cell_type": "code",
   "execution_count": 11,
   "metadata": {},
   "outputs": [],
   "source": [
    "x_table = pd.read_csv('train_data_cut_v6_1.csv')"
   ]
  },
  {
   "cell_type": "code",
   "execution_count": 31,
   "metadata": {},
   "outputs": [
    {
     "data": {
      "text/html": [
       "<div>\n",
       "<style scoped>\n",
       "    .dataframe tbody tr th:only-of-type {\n",
       "        vertical-align: middle;\n",
       "    }\n",
       "\n",
       "    .dataframe tbody tr th {\n",
       "        vertical-align: top;\n",
       "    }\n",
       "\n",
       "    .dataframe thead th {\n",
       "        text-align: right;\n",
       "    }\n",
       "</style>\n",
       "<table border=\"1\" class=\"dataframe\">\n",
       "  <thead>\n",
       "    <tr style=\"text-align: right;\">\n",
       "      <th></th>\n",
       "      <th>img_path</th>\n",
       "      <th>0</th>\n",
       "      <th>1</th>\n",
       "      <th>2</th>\n",
       "      <th>3</th>\n",
       "      <th>4</th>\n",
       "      <th>5</th>\n",
       "      <th>6</th>\n",
       "      <th>7</th>\n",
       "    </tr>\n",
       "  </thead>\n",
       "  <tbody>\n",
       "    <tr>\n",
       "      <th>0</th>\n",
       "      <td>data/train_cut_v2/Pass/0915104416_AOI_E02-0R12...</td>\n",
       "      <td>1</td>\n",
       "      <td>0</td>\n",
       "      <td>0</td>\n",
       "      <td>0</td>\n",
       "      <td>0</td>\n",
       "      <td>0</td>\n",
       "      <td>0</td>\n",
       "      <td>0</td>\n",
       "    </tr>\n",
       "    <tr>\n",
       "      <th>1</th>\n",
       "      <td>data/train_cut_v2/Pass/0914161127_AOI_E01-0C10...</td>\n",
       "      <td>1</td>\n",
       "      <td>0</td>\n",
       "      <td>0</td>\n",
       "      <td>0</td>\n",
       "      <td>0</td>\n",
       "      <td>0</td>\n",
       "      <td>0</td>\n",
       "      <td>0</td>\n",
       "    </tr>\n",
       "    <tr>\n",
       "      <th>2</th>\n",
       "      <td>data/train_cut_v2/Pass/0904093307_AOI_E01-0C10...</td>\n",
       "      <td>1</td>\n",
       "      <td>0</td>\n",
       "      <td>0</td>\n",
       "      <td>0</td>\n",
       "      <td>0</td>\n",
       "      <td>0</td>\n",
       "      <td>0</td>\n",
       "      <td>0</td>\n",
       "    </tr>\n",
       "    <tr>\n",
       "      <th>3</th>\n",
       "      <td>data/train_cut_v2/Pass/0910192346_AOI_E01-0C13...</td>\n",
       "      <td>1</td>\n",
       "      <td>0</td>\n",
       "      <td>0</td>\n",
       "      <td>0</td>\n",
       "      <td>0</td>\n",
       "      <td>0</td>\n",
       "      <td>0</td>\n",
       "      <td>0</td>\n",
       "    </tr>\n",
       "    <tr>\n",
       "      <th>4</th>\n",
       "      <td>data/train_cut_v2/Pass/0915171815_AOI_E02-0R05...</td>\n",
       "      <td>1</td>\n",
       "      <td>0</td>\n",
       "      <td>0</td>\n",
       "      <td>0</td>\n",
       "      <td>0</td>\n",
       "      <td>0</td>\n",
       "      <td>0</td>\n",
       "      <td>0</td>\n",
       "    </tr>\n",
       "  </tbody>\n",
       "</table>\n",
       "</div>"
      ],
      "text/plain": [
       "                                            img_path  0  1  2  3  4  5  6  7\n",
       "0  data/train_cut_v2/Pass/0915104416_AOI_E02-0R12...  1  0  0  0  0  0  0  0\n",
       "1  data/train_cut_v2/Pass/0914161127_AOI_E01-0C10...  1  0  0  0  0  0  0  0\n",
       "2  data/train_cut_v2/Pass/0904093307_AOI_E01-0C10...  1  0  0  0  0  0  0  0\n",
       "3  data/train_cut_v2/Pass/0910192346_AOI_E01-0C13...  1  0  0  0  0  0  0  0\n",
       "4  data/train_cut_v2/Pass/0915171815_AOI_E02-0R05...  1  0  0  0  0  0  0  0"
      ]
     },
     "execution_count": 31,
     "metadata": {},
     "output_type": "execute_result"
    }
   ],
   "source": [
    "x_table.head(5)"
   ]
  },
  {
   "cell_type": "markdown",
   "metadata": {},
   "source": [
    "# Shuffle \n"
   ]
  },
  {
   "cell_type": "code",
   "execution_count": 12,
   "metadata": {},
   "outputs": [],
   "source": [
    "#打亂\n",
    "x_table = shuffle(x_table)\n"
   ]
  },
  {
   "cell_type": "code",
   "execution_count": 13,
   "metadata": {},
   "outputs": [],
   "source": [
    "x_table.to_csv('X-Table_shuffle_cut_v6_1.csv', index = False)"
   ]
  },
  {
   "cell_type": "code",
   "execution_count": null,
   "metadata": {},
   "outputs": [],
   "source": []
  },
  {
   "cell_type": "markdown",
   "metadata": {},
   "source": [
    "# split train data\n",
    "# 取打亂的圖片來源檔"
   ]
  },
  {
   "cell_type": "code",
   "execution_count": 3,
   "metadata": {},
   "outputs": [],
   "source": [
    "x_table = pd.read_csv('X-Table_shuffle_cut_v5_1.csv')"
   ]
  },
  {
   "cell_type": "code",
   "execution_count": 14,
   "metadata": {},
   "outputs": [
    {
     "data": {
      "text/html": [
       "<div>\n",
       "<style scoped>\n",
       "    .dataframe tbody tr th:only-of-type {\n",
       "        vertical-align: middle;\n",
       "    }\n",
       "\n",
       "    .dataframe tbody tr th {\n",
       "        vertical-align: top;\n",
       "    }\n",
       "\n",
       "    .dataframe thead th {\n",
       "        text-align: right;\n",
       "    }\n",
       "</style>\n",
       "<table border=\"1\" class=\"dataframe\">\n",
       "  <thead>\n",
       "    <tr style=\"text-align: right;\">\n",
       "      <th></th>\n",
       "      <th>img_path</th>\n",
       "      <th>0</th>\n",
       "      <th>1</th>\n",
       "      <th>2</th>\n",
       "      <th>3</th>\n",
       "      <th>4</th>\n",
       "      <th>5</th>\n",
       "      <th>6</th>\n",
       "      <th>7</th>\n",
       "      <th>8</th>\n",
       "      <th>9</th>\n",
       "    </tr>\n",
       "  </thead>\n",
       "  <tbody>\n",
       "    <tr>\n",
       "      <th>12658</th>\n",
       "      <td>data/train_cut_v6_1/Pass/0913075935_AOI_E01-0R...</td>\n",
       "      <td>1</td>\n",
       "      <td>0</td>\n",
       "      <td>0</td>\n",
       "      <td>0</td>\n",
       "      <td>0</td>\n",
       "      <td>0</td>\n",
       "      <td>0</td>\n",
       "      <td>0</td>\n",
       "      <td>0</td>\n",
       "      <td>0</td>\n",
       "    </tr>\n",
       "    <tr>\n",
       "      <th>3331</th>\n",
       "      <td>data/train_cut_v6_1/Pass/0916014959_AOI_E02-0R...</td>\n",
       "      <td>1</td>\n",
       "      <td>0</td>\n",
       "      <td>0</td>\n",
       "      <td>0</td>\n",
       "      <td>0</td>\n",
       "      <td>0</td>\n",
       "      <td>0</td>\n",
       "      <td>0</td>\n",
       "      <td>0</td>\n",
       "      <td>0</td>\n",
       "    </tr>\n",
       "    <tr>\n",
       "      <th>15022</th>\n",
       "      <td>data/train_cut_v6_1/Missing/0821132924_AOI_E02...</td>\n",
       "      <td>0</td>\n",
       "      <td>1</td>\n",
       "      <td>0</td>\n",
       "      <td>0</td>\n",
       "      <td>0</td>\n",
       "      <td>0</td>\n",
       "      <td>0</td>\n",
       "      <td>0</td>\n",
       "      <td>0</td>\n",
       "      <td>0</td>\n",
       "    </tr>\n",
       "    <tr>\n",
       "      <th>5252</th>\n",
       "      <td>data/train_cut_v6_1/Pass/0917181520_AOI_E02-0C...</td>\n",
       "      <td>1</td>\n",
       "      <td>0</td>\n",
       "      <td>0</td>\n",
       "      <td>0</td>\n",
       "      <td>0</td>\n",
       "      <td>0</td>\n",
       "      <td>0</td>\n",
       "      <td>0</td>\n",
       "      <td>0</td>\n",
       "      <td>0</td>\n",
       "    </tr>\n",
       "    <tr>\n",
       "      <th>7441</th>\n",
       "      <td>data/train_cut_v6_1/Pass/0914052402_AOI_E01-0C...</td>\n",
       "      <td>1</td>\n",
       "      <td>0</td>\n",
       "      <td>0</td>\n",
       "      <td>0</td>\n",
       "      <td>0</td>\n",
       "      <td>0</td>\n",
       "      <td>0</td>\n",
       "      <td>0</td>\n",
       "      <td>0</td>\n",
       "      <td>0</td>\n",
       "    </tr>\n",
       "  </tbody>\n",
       "</table>\n",
       "</div>"
      ],
      "text/plain": [
       "                                                img_path  0  1  2  3  4  5  6  \\\n",
       "12658  data/train_cut_v6_1/Pass/0913075935_AOI_E01-0R...  1  0  0  0  0  0  0   \n",
       "3331   data/train_cut_v6_1/Pass/0916014959_AOI_E02-0R...  1  0  0  0  0  0  0   \n",
       "15022  data/train_cut_v6_1/Missing/0821132924_AOI_E02...  0  1  0  0  0  0  0   \n",
       "5252   data/train_cut_v6_1/Pass/0917181520_AOI_E02-0C...  1  0  0  0  0  0  0   \n",
       "7441   data/train_cut_v6_1/Pass/0914052402_AOI_E01-0C...  1  0  0  0  0  0  0   \n",
       "\n",
       "       7  8  9  \n",
       "12658  0  0  0  \n",
       "3331   0  0  0  \n",
       "15022  0  0  0  \n",
       "5252   0  0  0  \n",
       "7441   0  0  0  "
      ]
     },
     "execution_count": 14,
     "metadata": {},
     "output_type": "execute_result"
    }
   ],
   "source": [
    "x_table.head()"
   ]
  },
  {
   "cell_type": "code",
   "execution_count": 15,
   "metadata": {},
   "outputs": [],
   "source": [
    "X = x_table['img_path']\n",
    "y = x_table.drop(\"img_path\", axis = 1)\n",
    "\n",
    "X_train, X_valid, y_train, y_valid = train_test_split(X, y, test_size=0.25)"
   ]
  },
  {
   "cell_type": "code",
   "execution_count": 14,
   "metadata": {},
   "outputs": [],
   "source": []
  },
  {
   "cell_type": "markdown",
   "metadata": {},
   "source": [
    "建立generator"
   ]
  },
  {
   "cell_type": "code",
   "execution_count": 3,
   "metadata": {},
   "outputs": [
    {
     "name": "stderr",
     "output_type": "stream",
     "text": [
      "Using TensorFlow backend.\n"
     ]
    }
   ],
   "source": [
    "from keras.preprocessing.image import ImageDataGenerator\n",
    "\n",
    "## 設定config\n",
    "img_size_H = 250\n",
    "img_size_W = 200\n",
    "img_size = 200\n",
    "num_class = 10\n",
    "batch_size = 24\n",
    "channel_num = 3\n",
    "epoch = 50"
   ]
  },
  {
   "cell_type": "code",
   "execution_count": 22,
   "metadata": {},
   "outputs": [],
   "source": [
    "#Generator\n",
    "x = []\n",
    "\n",
    "img_gen = ImageDataGenerator(\n",
    "    rotation_range=0.0,\n",
    "    width_shift_range=0.1,\n",
    "    height_shift_range=0.1,\n",
    "    shear_range=0.0,\n",
    "    zoom_range=0.2,\n",
    "    horizontal_flip=True,\n",
    "    fill_mode='constant',\n",
    "    cval=0)\n",
    "\n",
    "\n",
    "def generator_input(data_path, size = img_size):    \n",
    "    x = []\n",
    "    for path in data_path:\n",
    "        img = cv2.imread(path)\n",
    "        img = cv2.resize(img, (img_size_H, img_size_W))\n",
    "#         img = img[:,:,::-1] # convert BGR to RGB  ##test turn it off\n",
    "        img = img.astype('float32') - np.array([123.68, 116.78, 103.94]) \n",
    "        x.append(img)\n",
    "    \n",
    "    x = np.array(x)\n",
    "    return x\n",
    "\n",
    "\n",
    "\n"
   ]
  },
  {
   "cell_type": "code",
   "execution_count": 23,
   "metadata": {},
   "outputs": [],
   "source": [
    "if not os.path.exists('saved_models/'):\n",
    "    os.makedirs('saved_models')"
   ]
  },
  {
   "cell_type": "code",
   "execution_count": 24,
   "metadata": {},
   "outputs": [],
   "source": [
    "import keras\n",
    "from keras.models import Sequential, load_model, Model\n",
    "from keras.preprocessing.image import ImageDataGenerator\n",
    "from keras.layers import Dense, Dropout, Activation, Flatten\n",
    "from keras.layers import Conv2D, MaxPooling2D, BatchNormalization, GlobalAveragePooling2D\n",
    "from keras.callbacks import EarlyStopping, ModelCheckpoint\n",
    "from keras.applications.resnet50 import ResNet50\n"
   ]
  },
  {
   "cell_type": "code",
   "execution_count": 25,
   "metadata": {},
   "outputs": [
    {
     "name": "stderr",
     "output_type": "stream",
     "text": [
      "/opt/conda/lib/python3.6/site-packages/keras_applications/resnet50.py:263: UserWarning: The output shape of `ResNet50(include_top=False)` has been changed since Keras 2.2.0.\n",
      "  warnings.warn('The output shape of `ResNet50(include_top=False)` '\n"
     ]
    },
    {
     "name": "stdout",
     "output_type": "stream",
     "text": [
      "Epoch 1/50\n",
      "610/610 [==============================] - 148s 242ms/step - loss: 0.8284 - acc: 0.7836 - val_loss: 0.3474 - val_acc: 0.9199\n",
      "\n",
      "Epoch 00001: val_loss improved from inf to 0.34739, saving model to saved_models/ResNet50-Fine-Tuning_cut_v6_1.h5\n",
      "Epoch 2/50\n",
      "610/610 [==============================] - 136s 223ms/step - loss: 0.3485 - acc: 0.9155 - val_loss: 0.3002 - val_acc: 0.9199\n",
      "\n",
      "Epoch 00002: val_loss improved from 0.34739 to 0.30021, saving model to saved_models/ResNet50-Fine-Tuning_cut_v6_1.h5\n",
      "Epoch 3/50\n",
      "610/610 [==============================] - 136s 223ms/step - loss: 0.2981 - acc: 0.9215 - val_loss: 0.2486 - val_acc: 0.9295\n",
      "\n",
      "Epoch 00003: val_loss improved from 0.30021 to 0.24859, saving model to saved_models/ResNet50-Fine-Tuning_cut_v6_1.h5\n",
      "Epoch 4/50\n",
      "610/610 [==============================] - 136s 223ms/step - loss: 0.2560 - acc: 0.9283 - val_loss: 0.2242 - val_acc: 0.9336\n",
      "\n",
      "Epoch 00004: val_loss improved from 0.24859 to 0.22424, saving model to saved_models/ResNet50-Fine-Tuning_cut_v6_1.h5\n",
      "Epoch 5/50\n",
      "610/610 [==============================] - 136s 223ms/step - loss: 0.2254 - acc: 0.9294 - val_loss: 0.2130 - val_acc: 0.9371\n",
      "\n",
      "Epoch 00005: val_loss improved from 0.22424 to 0.21297, saving model to saved_models/ResNet50-Fine-Tuning_cut_v6_1.h5\n",
      "Epoch 6/50\n",
      "610/610 [==============================] - 136s 223ms/step - loss: 0.2016 - acc: 0.9367 - val_loss: 0.1953 - val_acc: 0.9455\n",
      "\n",
      "Epoch 00006: val_loss improved from 0.21297 to 0.19528, saving model to saved_models/ResNet50-Fine-Tuning_cut_v6_1.h5\n",
      "Epoch 7/50\n",
      "610/610 [==============================] - 136s 223ms/step - loss: 0.1759 - acc: 0.9452 - val_loss: 0.1870 - val_acc: 0.9455\n",
      "\n",
      "Epoch 00007: val_loss improved from 0.19528 to 0.18699, saving model to saved_models/ResNet50-Fine-Tuning_cut_v6_1.h5\n",
      "Epoch 8/50\n",
      "610/610 [==============================] - 136s 223ms/step - loss: 0.1622 - acc: 0.9469 - val_loss: 0.1790 - val_acc: 0.9467\n",
      "\n",
      "Epoch 00008: val_loss improved from 0.18699 to 0.17902, saving model to saved_models/ResNet50-Fine-Tuning_cut_v6_1.h5\n",
      "Epoch 9/50\n",
      "610/610 [==============================] - 136s 223ms/step - loss: 0.1430 - acc: 0.9533 - val_loss: 0.1761 - val_acc: 0.9506\n",
      "\n",
      "Epoch 00009: val_loss improved from 0.17902 to 0.17606, saving model to saved_models/ResNet50-Fine-Tuning_cut_v6_1.h5\n",
      "Epoch 10/50\n",
      "610/610 [==============================] - 136s 223ms/step - loss: 0.1298 - acc: 0.9578 - val_loss: 0.1708 - val_acc: 0.9496\n",
      "\n",
      "Epoch 00010: val_loss improved from 0.17606 to 0.17085, saving model to saved_models/ResNet50-Fine-Tuning_cut_v6_1.h5\n",
      "Epoch 11/50\n",
      "610/610 [==============================] - 136s 223ms/step - loss: 0.1233 - acc: 0.9605 - val_loss: 0.1698 - val_acc: 0.9543\n",
      "\n",
      "Epoch 00011: val_loss improved from 0.17085 to 0.16984, saving model to saved_models/ResNet50-Fine-Tuning_cut_v6_1.h5\n",
      "Epoch 12/50\n",
      "610/610 [==============================] - 136s 223ms/step - loss: 0.1074 - acc: 0.9642 - val_loss: 0.1757 - val_acc: 0.9523\n",
      "\n",
      "Epoch 00012: val_loss did not improve from 0.16984\n",
      "Epoch 13/50\n",
      "610/610 [==============================] - 136s 224ms/step - loss: 0.1029 - acc: 0.9663 - val_loss: 0.1714 - val_acc: 0.9551\n",
      "\n",
      "Epoch 00013: val_loss did not improve from 0.16984\n",
      "Epoch 14/50\n",
      "610/610 [==============================] - 137s 224ms/step - loss: 0.0946 - acc: 0.9689 - val_loss: 0.1918 - val_acc: 0.9584\n",
      "\n",
      "Epoch 00014: val_loss did not improve from 0.16984\n",
      "Epoch 15/50\n",
      "610/610 [==============================] - 136s 223ms/step - loss: 0.0879 - acc: 0.9698 - val_loss: 0.1627 - val_acc: 0.9562\n",
      "\n",
      "Epoch 00015: val_loss improved from 0.16984 to 0.16272, saving model to saved_models/ResNet50-Fine-Tuning_cut_v6_1.h5\n",
      "Epoch 16/50\n",
      "610/610 [==============================] - 136s 223ms/step - loss: 0.0827 - acc: 0.9723 - val_loss: 0.1712 - val_acc: 0.9566\n",
      "\n",
      "Epoch 00016: val_loss did not improve from 0.16272\n",
      "Epoch 17/50\n",
      "610/610 [==============================] - 136s 223ms/step - loss: 0.0774 - acc: 0.9750 - val_loss: 0.1710 - val_acc: 0.9588\n",
      "\n",
      "Epoch 00017: val_loss did not improve from 0.16272\n",
      "Epoch 18/50\n",
      "610/610 [==============================] - 136s 224ms/step - loss: 0.0734 - acc: 0.9751 - val_loss: 0.1698 - val_acc: 0.9578\n",
      "\n",
      "Epoch 00018: val_loss did not improve from 0.16272\n",
      "Epoch 19/50\n",
      "610/610 [==============================] - 137s 224ms/step - loss: 0.0669 - acc: 0.9770 - val_loss: 0.1629 - val_acc: 0.9611\n",
      "\n",
      "Epoch 00019: val_loss did not improve from 0.16272\n",
      "Epoch 20/50\n",
      "610/610 [==============================] - 137s 225ms/step - loss: 0.0603 - acc: 0.9790 - val_loss: 0.1825 - val_acc: 0.9596\n",
      "\n",
      "Epoch 00020: val_loss did not improve from 0.16272\n",
      "Epoch 00020: early stopping\n"
     ]
    }
   ],
   "source": [
    "##model##\n",
    "#如果錯誤訊息是 OOM 代表圖片太大\n",
    "\n",
    "model_name = 'ResNet50-Fine-Tuning_cut_v6_1'\n",
    "\n",
    "\n",
    "base_model = ResNet50(weights='imagenet', include_top = False, \n",
    "                      input_shape=(img_size_W, img_size_H, 3))\n",
    "\n",
    "\n",
    "x = base_model.output\n",
    "# x = Flatten()(x) #不用Flatten,改用GlobaAveragePoooling2D\n",
    "x = GlobalAveragePooling2D(data_format='channels_last')(x)\n",
    "\n",
    "x = Dropout(0.5)(x)\n",
    "x = Dense(64, activation='relu')(x)\n",
    "x = Dense(128, activation='relu')(x)\n",
    "x = Dense(256, activation='relu')(x)\n",
    "\n",
    "predictions = Dense(num_class, activation='softmax')(x)\n",
    "\n",
    "model = Model(inputs=base_model.input, outputs=predictions)\n",
    "\n",
    "# model.summary()\n",
    "optimizer = keras.optimizers.Adam(lr=10e-6) \n",
    "\n",
    "model_path = 'saved_models/{}.h5'.format(model_name)\n",
    "\n",
    "checkpoint = ModelCheckpoint(model_path, monitor='val_loss', save_best_only=True, verbose=1)\n",
    "earlystop = EarlyStopping(monitor='val_loss', patience=5, verbose=1)\n",
    "\n",
    "model.compile(loss='categorical_crossentropy',\n",
    "              optimizer=optimizer, metrics=['accuracy'])\n",
    "\n",
    "\n",
    "aug_ratio = 1\n",
    "steps_per_epoch = int(aug_ratio * X_train.shape[0] / batch_size)\n",
    "validation_steps = int(aug_ratio * X_valid.shape[0] / batch_size)\n",
    "\n",
    "model_history = model.fit_generator(img_gen.flow(generator_input(X_train), y_train, batch_size = batch_size),\n",
    "                                    epochs = epoch,\n",
    "                                    validation_data = (generator_input(X_valid), y_valid),\n",
    "                                    callbacks = [checkpoint, earlystop],\n",
    "                                    steps_per_epoch = steps_per_epoch,\n",
    "                                    validation_steps = validation_steps)\n"
   ]
  },
  {
   "cell_type": "markdown",
   "metadata": {},
   "source": [
    "# @ testset 預測答案"
   ]
  },
  {
   "cell_type": "code",
   "execution_count": 6,
   "metadata": {},
   "outputs": [],
   "source": [
    "## 設定config\n",
    "img_size_H = 250\n",
    "img_size_W = 200\n",
    "img_size = 200\n",
    "num_class = 10\n",
    "batch_size = 24\n",
    "channel_num = 3\n",
    "epoch = 50"
   ]
  },
  {
   "cell_type": "code",
   "execution_count": 4,
   "metadata": {},
   "outputs": [],
   "source": [
    "y_table = pd.read_csv(\"data/test_cut_v6_1.csv\")"
   ]
  },
  {
   "cell_type": "code",
   "execution_count": null,
   "metadata": {},
   "outputs": [],
   "source": [
    "# orig_test.head(10)"
   ]
  },
  {
   "cell_type": "code",
   "execution_count": 10,
   "metadata": {},
   "outputs": [
    {
     "data": {
      "text/html": [
       "<div>\n",
       "<style scoped>\n",
       "    .dataframe tbody tr th:only-of-type {\n",
       "        vertical-align: middle;\n",
       "    }\n",
       "\n",
       "    .dataframe tbody tr th {\n",
       "        vertical-align: top;\n",
       "    }\n",
       "\n",
       "    .dataframe thead th {\n",
       "        text-align: right;\n",
       "    }\n",
       "</style>\n",
       "<table border=\"1\" class=\"dataframe\">\n",
       "  <thead>\n",
       "    <tr style=\"text-align: right;\">\n",
       "      <th></th>\n",
       "      <th>img_path</th>\n",
       "      <th>class</th>\n",
       "    </tr>\n",
       "  </thead>\n",
       "  <tbody>\n",
       "    <tr>\n",
       "      <th>0</th>\n",
       "      <td>0913043348_AOI_E01-0R027_4_WhiteLight.jpg</td>\n",
       "      <td>2</td>\n",
       "    </tr>\n",
       "    <tr>\n",
       "      <th>1</th>\n",
       "      <td>0917120507_AOI_E02-0R038_3_LowAngleLight.jpg</td>\n",
       "      <td>0</td>\n",
       "    </tr>\n",
       "    <tr>\n",
       "      <th>2</th>\n",
       "      <td>0809191038_AOI_E02-0R040_2_SolderLight.jpg</td>\n",
       "      <td>1</td>\n",
       "    </tr>\n",
       "    <tr>\n",
       "      <th>3</th>\n",
       "      <td>0917153925_AOI_E02-0R130_1_SolderLight.jpg</td>\n",
       "      <td>0</td>\n",
       "    </tr>\n",
       "    <tr>\n",
       "      <th>4</th>\n",
       "      <td>0917140111_AOI_E02-0C148_3_SolderLight.jpg</td>\n",
       "      <td>0</td>\n",
       "    </tr>\n",
       "  </tbody>\n",
       "</table>\n",
       "</div>"
      ],
      "text/plain": [
       "                                       img_path  class\n",
       "0     0913043348_AOI_E01-0R027_4_WhiteLight.jpg      2\n",
       "1  0917120507_AOI_E02-0R038_3_LowAngleLight.jpg      0\n",
       "2    0809191038_AOI_E02-0R040_2_SolderLight.jpg      1\n",
       "3    0917153925_AOI_E02-0R130_1_SolderLight.jpg      0\n",
       "4    0917140111_AOI_E02-0C148_3_SolderLight.jpg      0"
      ]
     },
     "execution_count": 10,
     "metadata": {},
     "output_type": "execute_result"
    }
   ],
   "source": [
    "y_table.head(5)"
   ]
  },
  {
   "cell_type": "code",
   "execution_count": null,
   "metadata": {},
   "outputs": [],
   "source": [
    "# img_test_path\n",
    "#紀錄圖片名稱\n",
    "x_class=[]\n",
    "#紀錄圖片路徑\n",
    "x_path=[]\n",
    "#r紀錄目錄\n",
    "x_dir=[]\n",
    "i = 1\n",
    "\n",
    "\n",
    "for imgname in os.listdir(img_test_path):\n",
    "    i+=1\n",
    "    dir_img = img_test_path + imgname\n",
    "    train_img =cv2.imread(dir_img)\n",
    "#     #防呆,避免讀取的不是圖檔\n",
    "    if train_img is not None:\n",
    "        df_name = orig_test[orig_test['img_path'] == imgname]     \n",
    "        class_name = df_name['class']\n",
    "        if(class_name.count != 0):\n",
    "            class_name = int(class_name.iloc[0])\n",
    "            x_class.append(class_name)\n",
    "            path = imgname\n",
    "            x_path.append(path)\n",
    "\n",
    "print('count: ',i)\n",
    "\n"
   ]
  },
  {
   "cell_type": "code",
   "execution_count": 9,
   "metadata": {},
   "outputs": [],
   "source": [
    "\n",
    "def generator_test(data_path, size = img_size):    \n",
    "    x = []\n",
    "    for path in data_path:\n",
    "        img = cv2.imread(img_test_path + path)\n",
    "        img = cv2.resize(img, (img_size_H, img_size_W))\n",
    "                \n",
    "#         img = img[:,:,::-1] # convert BGR to RGB  ##test turn it off\n",
    "        img = img.astype('float32') - np.array([123.68, 116.78, 103.94]) \n",
    "        x.append(img)\n",
    "    \n",
    "    x = np.array(x)\n",
    "    return x"
   ]
  },
  {
   "cell_type": "code",
   "execution_count": 9,
   "metadata": {},
   "outputs": [],
   "source": [
    "#將圖檔和路徑合併\n",
    "# x_table = pd.DataFrame(x_name)\n",
    "# x_class = pd.DataFrame(x_class)\n",
    "# x_class.rename(columns={ x_class.columns[0]: \"class\"}, inplace=True)\n",
    "\n",
    "# x_path = pd.DataFrame(x_path)\n",
    "# x_path.rename(columns={ x_path.columns[0]: \"img_path\"}, inplace=True)\n",
    "\n",
    "# x_dir = pd.DataFrame(x_dir)\n",
    "# x_dir.rename(columns={ x_dir.columns[0]: \"dir_name\"}, inplace=True)\n",
    "\n",
    "# y_table = pd.concat([x_path,x_class],axis=1)\n",
    "# y_table = pd.concat([x_path,x_class],axis=1)"
   ]
  },
  {
   "cell_type": "code",
   "execution_count": 10,
   "metadata": {},
   "outputs": [],
   "source": [
    "# y_table.to_csv('data/test_date_cut_v5_1.csv', index = False)"
   ]
  },
  {
   "cell_type": "code",
   "execution_count": 15,
   "metadata": {},
   "outputs": [
    {
     "data": {
      "text/html": [
       "<div>\n",
       "<style scoped>\n",
       "    .dataframe tbody tr th:only-of-type {\n",
       "        vertical-align: middle;\n",
       "    }\n",
       "\n",
       "    .dataframe tbody tr th {\n",
       "        vertical-align: top;\n",
       "    }\n",
       "\n",
       "    .dataframe thead th {\n",
       "        text-align: right;\n",
       "    }\n",
       "</style>\n",
       "<table border=\"1\" class=\"dataframe\">\n",
       "  <thead>\n",
       "    <tr style=\"text-align: right;\">\n",
       "      <th></th>\n",
       "      <th>img_path</th>\n",
       "      <th>class</th>\n",
       "    </tr>\n",
       "  </thead>\n",
       "  <tbody>\n",
       "    <tr>\n",
       "      <th>0</th>\n",
       "      <td>0915121849_AOI_E02-0R077_4_UniformLight.jpg</td>\n",
       "      <td>5</td>\n",
       "    </tr>\n",
       "    <tr>\n",
       "      <th>1</th>\n",
       "      <td>0919150453_AOI_E02-0R080_4_UniformLight.jpg</td>\n",
       "      <td>0</td>\n",
       "    </tr>\n",
       "    <tr>\n",
       "      <th>2</th>\n",
       "      <td>0919144541_AOI_E02-0R038_4_WhiteLight.jpg</td>\n",
       "      <td>0</td>\n",
       "    </tr>\n",
       "    <tr>\n",
       "      <th>3</th>\n",
       "      <td>0919105040_AOI_E02-0C063_4_WhiteLight.jpg</td>\n",
       "      <td>5</td>\n",
       "    </tr>\n",
       "    <tr>\n",
       "      <th>4</th>\n",
       "      <td>0919151324_AOI_E02-0R016_3_WhiteLight.jpg</td>\n",
       "      <td>0</td>\n",
       "    </tr>\n",
       "  </tbody>\n",
       "</table>\n",
       "</div>"
      ],
      "text/plain": [
       "                                      img_path  class\n",
       "0  0915121849_AOI_E02-0R077_4_UniformLight.jpg      5\n",
       "1  0919150453_AOI_E02-0R080_4_UniformLight.jpg      0\n",
       "2    0919144541_AOI_E02-0R038_4_WhiteLight.jpg      0\n",
       "3    0919105040_AOI_E02-0C063_4_WhiteLight.jpg      5\n",
       "4    0919151324_AOI_E02-0R016_3_WhiteLight.jpg      0"
      ]
     },
     "execution_count": 15,
     "metadata": {},
     "output_type": "execute_result"
    }
   ],
   "source": [
    "y_table.head(5)"
   ]
  },
  {
   "cell_type": "code",
   "execution_count": 5,
   "metadata": {},
   "outputs": [],
   "source": [
    "import cv2\n",
    "# y_temp = pd.read_csv(\"data/1004-test_data.csv\")\n",
    "# y_temp = pd.read_csv(\"data/test_date_cut_v5_1.csv\")\n",
    "# y_temp = y_temp['filename']\n",
    "y_temp = y_table['img_path']"
   ]
  },
  {
   "cell_type": "code",
   "execution_count": 6,
   "metadata": {},
   "outputs": [
    {
     "data": {
      "text/plain": [
       "0       0913043348_AOI_E01-0R027_4_WhiteLight.jpg\n",
       "1    0917120507_AOI_E02-0R038_3_LowAngleLight.jpg\n",
       "2      0809191038_AOI_E02-0R040_2_SolderLight.jpg\n",
       "3      0917153925_AOI_E02-0R130_1_SolderLight.jpg\n",
       "4      0917140111_AOI_E02-0C148_3_SolderLight.jpg\n",
       "Name: img_path, dtype: object"
      ]
     },
     "execution_count": 6,
     "metadata": {},
     "output_type": "execute_result"
    }
   ],
   "source": [
    "y_temp.head(5)"
   ]
  },
  {
   "cell_type": "code",
   "execution_count": 10,
   "metadata": {},
   "outputs": [],
   "source": [
    "y_gen_table = generator_test(y_temp, size = img_size)"
   ]
  },
  {
   "cell_type": "code",
   "execution_count": null,
   "metadata": {},
   "outputs": [],
   "source": []
  },
  {
   "cell_type": "code",
   "execution_count": 11,
   "metadata": {},
   "outputs": [],
   "source": [
    "from keras.models import Sequential, load_model, Model\n",
    "\n",
    "model = load_model('saved_models/ResNet50-Fine-Tuning_cut_v6_1.h5')\n",
    "y_pred = model.predict(y_gen_table)\n",
    "y_pred = y_pred.argmax(axis = 1)\n",
    "y_pred = pd.DataFrame(y_pred)\n",
    "#合併id檔\n",
    "result = pd.concat([y_temp,y_pred], axis = 1)\n"
   ]
  },
  {
   "cell_type": "code",
   "execution_count": 12,
   "metadata": {},
   "outputs": [
    {
     "data": {
      "text/html": [
       "<div>\n",
       "<style scoped>\n",
       "    .dataframe tbody tr th:only-of-type {\n",
       "        vertical-align: middle;\n",
       "    }\n",
       "\n",
       "    .dataframe tbody tr th {\n",
       "        vertical-align: top;\n",
       "    }\n",
       "\n",
       "    .dataframe thead th {\n",
       "        text-align: right;\n",
       "    }\n",
       "</style>\n",
       "<table border=\"1\" class=\"dataframe\">\n",
       "  <thead>\n",
       "    <tr style=\"text-align: right;\">\n",
       "      <th></th>\n",
       "      <th>img_path</th>\n",
       "      <th>0</th>\n",
       "    </tr>\n",
       "  </thead>\n",
       "  <tbody>\n",
       "    <tr>\n",
       "      <th>0</th>\n",
       "      <td>0913043348_AOI_E01-0R027_4_WhiteLight.jpg</td>\n",
       "      <td>5</td>\n",
       "    </tr>\n",
       "    <tr>\n",
       "      <th>1</th>\n",
       "      <td>0917120507_AOI_E02-0R038_3_LowAngleLight.jpg</td>\n",
       "      <td>0</td>\n",
       "    </tr>\n",
       "    <tr>\n",
       "      <th>2</th>\n",
       "      <td>0809191038_AOI_E02-0R040_2_SolderLight.jpg</td>\n",
       "      <td>1</td>\n",
       "    </tr>\n",
       "    <tr>\n",
       "      <th>3</th>\n",
       "      <td>0917153925_AOI_E02-0R130_1_SolderLight.jpg</td>\n",
       "      <td>0</td>\n",
       "    </tr>\n",
       "    <tr>\n",
       "      <th>4</th>\n",
       "      <td>0917140111_AOI_E02-0C148_3_SolderLight.jpg</td>\n",
       "      <td>0</td>\n",
       "    </tr>\n",
       "  </tbody>\n",
       "</table>\n",
       "</div>"
      ],
      "text/plain": [
       "                                       img_path  0\n",
       "0     0913043348_AOI_E01-0R027_4_WhiteLight.jpg  5\n",
       "1  0917120507_AOI_E02-0R038_3_LowAngleLight.jpg  0\n",
       "2    0809191038_AOI_E02-0R040_2_SolderLight.jpg  1\n",
       "3    0917153925_AOI_E02-0R130_1_SolderLight.jpg  0\n",
       "4    0917140111_AOI_E02-0C148_3_SolderLight.jpg  0"
      ]
     },
     "execution_count": 12,
     "metadata": {},
     "output_type": "execute_result"
    }
   ],
   "source": [
    "result.head()"
   ]
  },
  {
   "cell_type": "code",
   "execution_count": 13,
   "metadata": {},
   "outputs": [],
   "source": [
    "#移除class欄位\n",
    "# result = result.drop([\"class\"], axis = 1)\n",
    "#rename columns name\n",
    "result.rename(columns={result.columns[1]: \"class\"}, inplace=True)"
   ]
  },
  {
   "cell_type": "code",
   "execution_count": 14,
   "metadata": {},
   "outputs": [
    {
     "data": {
      "text/html": [
       "<div>\n",
       "<style scoped>\n",
       "    .dataframe tbody tr th:only-of-type {\n",
       "        vertical-align: middle;\n",
       "    }\n",
       "\n",
       "    .dataframe tbody tr th {\n",
       "        vertical-align: top;\n",
       "    }\n",
       "\n",
       "    .dataframe thead th {\n",
       "        text-align: right;\n",
       "    }\n",
       "</style>\n",
       "<table border=\"1\" class=\"dataframe\">\n",
       "  <thead>\n",
       "    <tr style=\"text-align: right;\">\n",
       "      <th></th>\n",
       "      <th>img_path</th>\n",
       "      <th>class</th>\n",
       "    </tr>\n",
       "  </thead>\n",
       "  <tbody>\n",
       "    <tr>\n",
       "      <th>0</th>\n",
       "      <td>0913043348_AOI_E01-0R027_4_WhiteLight.jpg</td>\n",
       "      <td>5</td>\n",
       "    </tr>\n",
       "    <tr>\n",
       "      <th>1</th>\n",
       "      <td>0917120507_AOI_E02-0R038_3_LowAngleLight.jpg</td>\n",
       "      <td>0</td>\n",
       "    </tr>\n",
       "    <tr>\n",
       "      <th>2</th>\n",
       "      <td>0809191038_AOI_E02-0R040_2_SolderLight.jpg</td>\n",
       "      <td>1</td>\n",
       "    </tr>\n",
       "    <tr>\n",
       "      <th>3</th>\n",
       "      <td>0917153925_AOI_E02-0R130_1_SolderLight.jpg</td>\n",
       "      <td>0</td>\n",
       "    </tr>\n",
       "    <tr>\n",
       "      <th>4</th>\n",
       "      <td>0917140111_AOI_E02-0C148_3_SolderLight.jpg</td>\n",
       "      <td>0</td>\n",
       "    </tr>\n",
       "  </tbody>\n",
       "</table>\n",
       "</div>"
      ],
      "text/plain": [
       "                                       img_path  class\n",
       "0     0913043348_AOI_E01-0R027_4_WhiteLight.jpg      5\n",
       "1  0917120507_AOI_E02-0R038_3_LowAngleLight.jpg      0\n",
       "2    0809191038_AOI_E02-0R040_2_SolderLight.jpg      1\n",
       "3    0917153925_AOI_E02-0R130_1_SolderLight.jpg      0\n",
       "4    0917140111_AOI_E02-0C148_3_SolderLight.jpg      0"
      ]
     },
     "execution_count": 14,
     "metadata": {},
     "output_type": "execute_result"
    }
   ],
   "source": [
    "result.head(5)"
   ]
  },
  {
   "cell_type": "code",
   "execution_count": 15,
   "metadata": {},
   "outputs": [],
   "source": [
    "#把答案跟預測比對\n",
    "# y_temp = pd.read_csv(\"data/test_date_cut_v5_1.csv\")\n",
    "y_result = pd.concat([result,y_table],axis=1)\n",
    "y_result.to_csv('img_result_cut_v6_1.csv', index = False)"
   ]
  },
  {
   "cell_type": "code",
   "execution_count": 34,
   "metadata": {},
   "outputs": [
    {
     "data": {
      "text/html": [
       "<div>\n",
       "<style scoped>\n",
       "    .dataframe tbody tr th:only-of-type {\n",
       "        vertical-align: middle;\n",
       "    }\n",
       "\n",
       "    .dataframe tbody tr th {\n",
       "        vertical-align: top;\n",
       "    }\n",
       "\n",
       "    .dataframe thead th {\n",
       "        text-align: right;\n",
       "    }\n",
       "</style>\n",
       "<table border=\"1\" class=\"dataframe\">\n",
       "  <thead>\n",
       "    <tr style=\"text-align: right;\">\n",
       "      <th></th>\n",
       "      <th>0</th>\n",
       "    </tr>\n",
       "  </thead>\n",
       "  <tbody>\n",
       "    <tr>\n",
       "      <th>0</th>\n",
       "      <td>5</td>\n",
       "    </tr>\n",
       "    <tr>\n",
       "      <th>1</th>\n",
       "      <td>0</td>\n",
       "    </tr>\n",
       "    <tr>\n",
       "      <th>2</th>\n",
       "      <td>0</td>\n",
       "    </tr>\n",
       "    <tr>\n",
       "      <th>3</th>\n",
       "      <td>5</td>\n",
       "    </tr>\n",
       "    <tr>\n",
       "      <th>4</th>\n",
       "      <td>0</td>\n",
       "    </tr>\n",
       "  </tbody>\n",
       "</table>\n",
       "</div>"
      ],
      "text/plain": [
       "   0\n",
       "0  5\n",
       "1  0\n",
       "2  0\n",
       "3  5\n",
       "4  0"
      ]
     },
     "execution_count": 34,
     "metadata": {},
     "output_type": "execute_result"
    }
   ],
   "source": [
    "y_pred.head(5)"
   ]
  },
  {
   "cell_type": "code",
   "execution_count": 21,
   "metadata": {},
   "outputs": [],
   "source": [
    "y_table_class = y_table['class']"
   ]
  },
  {
   "cell_type": "code",
   "execution_count": 22,
   "metadata": {},
   "outputs": [],
   "source": [
    "from sklearn.metrics import confusion_matrix\n",
    "C = confusion_matrix(y_table_class, y_pred)"
   ]
  },
  {
   "cell_type": "code",
   "execution_count": 39,
   "metadata": {},
   "outputs": [
    {
     "data": {
      "text/html": [
       "<div>\n",
       "<style scoped>\n",
       "    .dataframe tbody tr th:only-of-type {\n",
       "        vertical-align: middle;\n",
       "    }\n",
       "\n",
       "    .dataframe tbody tr th {\n",
       "        vertical-align: top;\n",
       "    }\n",
       "\n",
       "    .dataframe thead th {\n",
       "        text-align: right;\n",
       "    }\n",
       "</style>\n",
       "<table border=\"1\" class=\"dataframe\">\n",
       "  <thead>\n",
       "    <tr style=\"text-align: right;\">\n",
       "      <th></th>\n",
       "      <th>classes</th>\n",
       "      <th>dirs</th>\n",
       "    </tr>\n",
       "  </thead>\n",
       "  <tbody>\n",
       "    <tr>\n",
       "      <th>0</th>\n",
       "      <td>0</td>\n",
       "      <td>Pass</td>\n",
       "    </tr>\n",
       "    <tr>\n",
       "      <th>1</th>\n",
       "      <td>1</td>\n",
       "      <td>Missing</td>\n",
       "    </tr>\n",
       "    <tr>\n",
       "      <th>2</th>\n",
       "      <td>2</td>\n",
       "      <td>MissAlignment</td>\n",
       "    </tr>\n",
       "    <tr>\n",
       "      <th>3</th>\n",
       "      <td>3</td>\n",
       "      <td>Tombstone_SideStanding</td>\n",
       "    </tr>\n",
       "    <tr>\n",
       "      <th>4</th>\n",
       "      <td>4</td>\n",
       "      <td>PartsReversed</td>\n",
       "    </tr>\n",
       "    <tr>\n",
       "      <th>5</th>\n",
       "      <td>5</td>\n",
       "      <td>ExcessComponent</td>\n",
       "    </tr>\n",
       "    <tr>\n",
       "      <th>6</th>\n",
       "      <td>6</td>\n",
       "      <td>TextMissing</td>\n",
       "    </tr>\n",
       "    <tr>\n",
       "      <th>7</th>\n",
       "      <td>7</td>\n",
       "      <td>VoidSolder_Short</td>\n",
       "    </tr>\n",
       "  </tbody>\n",
       "</table>\n",
       "</div>"
      ],
      "text/plain": [
       "   classes                    dirs\n",
       "0        0                    Pass\n",
       "1        1                 Missing\n",
       "2        2           MissAlignment\n",
       "3        3  Tombstone_SideStanding\n",
       "4        4           PartsReversed\n",
       "5        5         ExcessComponent\n",
       "6        6             TextMissing\n",
       "7        7        VoidSolder_Short"
      ]
     },
     "execution_count": 39,
     "metadata": {},
     "output_type": "execute_result"
    }
   ],
   "source": [
    "df_classes"
   ]
  },
  {
   "cell_type": "code",
   "execution_count": 23,
   "metadata": {},
   "outputs": [
    {
     "name": "stdout",
     "output_type": "stream",
     "text": [
      "[[566   0   0   0   1   1   1   5   1   0]\n",
      " [  0 106   0   0   0   0   0   0   0   0]\n",
      " [  0   0   1   0   0   3   0   0   0   0]\n",
      " [  0   0   0   4   0   0   0   0   0   0]\n",
      " [  0   0   0   0   7   0   0   0   0   0]\n",
      " [  8   0   0   0   0   0   0   1   0   2]\n",
      " [  0   0   0   0   0   0   0   0   0   0]\n",
      " [  0   0   0   0   0   0   0   5   0   0]\n",
      " [  0   0   0   0   0   0   0   0   0   0]\n",
      " [  0   0   0   0   0   0   0   0   0   0]]\n"
     ]
    }
   ],
   "source": [
    "print(C)"
   ]
  },
  {
   "cell_type": "code",
   "execution_count": 83,
   "metadata": {},
   "outputs": [],
   "source": [
    "# result.to_csv('img_result.csv', index = False)"
   ]
  },
  {
   "cell_type": "code",
   "execution_count": 34,
   "metadata": {},
   "outputs": [],
   "source": [
    "#建立放置分類圖片目錄\n",
    "test_dir_name = 'data/test_classes'\n",
    "if not os.path.exists(test_dir_name):\n",
    "    os.makedirs(test_dir_name)\n",
    "\n",
    "#取test pos\n",
    "df_map = pd.read_csv('data/mapPos.csv');"
   ]
  },
  {
   "cell_type": "code",
   "execution_count": null,
   "metadata": {},
   "outputs": [],
   "source": []
  },
  {
   "cell_type": "code",
   "execution_count": null,
   "metadata": {},
   "outputs": [],
   "source": []
  },
  {
   "cell_type": "code",
   "execution_count": 35,
   "metadata": {},
   "outputs": [],
   "source": [
    "# 把testset 預測出來的答案，把檔案轉到分類目錄。\n",
    "import shutil\n",
    "\n",
    "dir_name = \"\"\n",
    "pic_name = \"\"\n",
    "\n",
    "for index, row in result.iterrows():\n",
    "    df_name = df_classes[df_classes['classes'] == row['class']]\n",
    "#     df_classes = row\n",
    "#     print(row['filename'])\n",
    "    class_name = df_name['dirs']\n",
    "    \n",
    "    dir_name = 'data/test_classes/'+ class_name.iloc[0] + '/'\n",
    "    #建立分類目錄\n",
    "    if not os.path.exists(dir_name):\n",
    "        os.makedirs(dir_name)\n",
    "\n",
    "    #將圖片copy 到對應的目錄\n",
    "    shutil.copy('data/testset/'+row['filename'],dir_name)\n"
   ]
  },
  {
   "cell_type": "code",
   "execution_count": null,
   "metadata": {},
   "outputs": [],
   "source": []
  }
 ],
 "metadata": {
  "kernelspec": {
   "display_name": "Python 3",
   "language": "python",
   "name": "python3"
  },
  "language_info": {
   "codemirror_mode": {
    "name": "ipython",
    "version": 3
   },
   "file_extension": ".py",
   "mimetype": "text/x-python",
   "name": "python",
   "nbconvert_exporter": "python",
   "pygments_lexer": "ipython3",
   "version": "3.6.6"
  }
 },
 "nbformat": 4,
 "nbformat_minor": 2
}
